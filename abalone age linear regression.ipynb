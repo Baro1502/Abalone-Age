{
 "cells": [
  {
   "attachments": {},
   "cell_type": "markdown",
   "metadata": {},
   "source": [
    "\n",
    "\tName\t\tData Type\tMeas.\tDescription\n",
    "\t----\t\t---------\t-----\t-----------\n",
    "\tSex\t\tnominal\t\t\tM, F, and I (infant)\n",
    "\tLength\t\tcontinuous\tmm\tLongest shell measurement\n",
    "\tDiameter\tcontinuous\tmm\tperpendicular to length\n",
    "\tHeight\t\tcontinuous\tmm\twith meat in shell\n",
    "\tWhole weight\tcontinuous\tgrams\twhole abalone\n",
    "\tShucked weight\tcontinuous\tgrams\tweight of meat\n",
    "\tViscera weight\tcontinuous\tgrams\tgut weight (after bleeding)\n",
    "\tShell weight\tcontinuous\tgrams\tafter being dried\n",
    "\tRings\t\tinteger\t\t\t+1.5 gives the age in years"
   ]
  },
  {
   "cell_type": "code",
   "execution_count": null,
   "metadata": {},
   "outputs": [],
   "source": [
    "import pandas as pd\n",
    "import numpy as np\n",
    "import matplotlib.pyplot as plt"
   ]
  },
  {
   "cell_type": "code",
   "execution_count": null,
   "metadata": {},
   "outputs": [],
   "source": [
    "df = pd.read_csv('abalone.data')"
   ]
  },
  {
   "cell_type": "code",
   "execution_count": null,
   "metadata": {},
   "outputs": [],
   "source": [
    "df"
   ]
  },
  {
   "cell_type": "code",
   "execution_count": null,
   "metadata": {},
   "outputs": [],
   "source": [
    "df.describe()"
   ]
  },
  {
   "cell_type": "code",
   "execution_count": null,
   "metadata": {},
   "outputs": [],
   "source": [
    "df.isna().sum()"
   ]
  },
  {
   "cell_type": "code",
   "execution_count": null,
   "metadata": {},
   "outputs": [],
   "source": [
    "names = list(df.columns)\n",
    "names"
   ]
  },
  {
   "cell_type": "code",
   "execution_count": null,
   "metadata": {},
   "outputs": [],
   "source": [
    "f = df['Sex'].value_counts()\n",
    "print(f)\n",
    "f.plot.bar(rot =0)"
   ]
  },
  {
   "attachments": {},
   "cell_type": "markdown",
   "metadata": {},
   "source": [
    "# Processing Data"
   ]
  },
  {
   "cell_type": "code",
   "execution_count": null,
   "metadata": {},
   "outputs": [],
   "source": [
    "y = df[names[-1]].values\n",
    "x = df.drop(columns= names[-1]).values"
   ]
  },
  {
   "cell_type": "code",
   "execution_count": null,
   "metadata": {},
   "outputs": [],
   "source": [
    "from sklearn.preprocessing import MinMaxScaler\n",
    "scaler = MinMaxScaler()\n",
    "scaler.fit(x[1:-1])\n",
    "x_scaled = x.copy()\n",
    "x_scaled[1:-1] = scaler.transform(x[1:-1])"
   ]
  },
  {
   "cell_type": "code",
   "execution_count": null,
   "metadata": {},
   "outputs": [],
   "source": [
    "from sklearn.model_selection import train_test_split\n",
    "X_train, X_test, Y_train, Y_test = train_test_split(x_scaled, y, random_state = 42, test_size=0.25)"
   ]
  },
  {
   "cell_type": "code",
   "execution_count": null,
   "metadata": {},
   "outputs": [],
   "source": [
    "from sklearn.linear_model import LinearRegression\n",
    "LR = LinearRegression().fit(X_train,Y_train)\n",
    "LR.score(X_test,Y_test)"
   ]
  },
  {
   "cell_type": "code",
   "execution_count": null,
   "metadata": {},
   "outputs": [],
   "source": [
    "Y_predict = LR.predict(X_test)"
   ]
  },
  {
   "attachments": {},
   "cell_type": "markdown",
   "metadata": {},
   "source": [
    "# Evaluating Model"
   ]
  },
  {
   "cell_type": "code",
   "execution_count": null,
   "metadata": {},
   "outputs": [],
   "source": [
    "from sklearn.metrics import mean_absolute_error, mean_squared_error\n",
    "import math\n",
    "LR_mae=int(mean_absolute_error(Y_test, Y_predict))\n",
    "LR_mse=int(mean_squared_error(Y_test, Y_predict))\n",
    "LR_rmse=int(math.sqrt(mean_squared_error(Y_test, Y_predict)))\n",
    "print(LR_mae,LR_rmse)"
   ]
  },
  {
   "cell_type": "code",
   "execution_count": null,
   "metadata": {},
   "outputs": [],
   "source": [
    "# plt.style.use('fivethirtyeight')  \n",
    "  \n",
    "# # Initializing a matplotlib figure  \n",
    "# fig = plt.figure(figsize = (15, 6))  \n",
    "  \n",
    "# axis1 = fig.add_subplot(131, projection = '3d')  \n",
    "# axis2 = fig.add_subplot(132, projection = '3d')  \n",
    "# axis3 = fig.add_subplot(133, projection = '3d')  \n",
    "  \n",
    "# axes = [axis1, axis2, axis3]  \n",
    "  \n",
    "# for ax in axes:  \n",
    "#     ax.plot(x_scaled, color='k', zorder = 10, linestyle = 'none', marker = 'o', alpha = 0.1)  \n",
    "#     ax.scatter(x_scaled.flatten(), Y_test.flatten(), Y_predict, facecolor = (0,0,0,0), s = 20, edgecolor = '#70b3f0')  \n",
    "#     # ax.set_xlabel('Area', fontsize = 10, labelpad = 10)  \n",
    "#     # ax.set_ylabel('Bedrooms', fontsize = 10, labelpad = 10)  \n",
    "#     # ax.set_zlabel('Prices', fontsize = 10, labelpad = 10)  \n",
    "#     # ax.locator_params(nbins = 3, axis = 'x')  \n",
    "#     # ax.locator_params(nbins = 3, axis = 'x')  \n",
    "  \n",
    "# axis1.view_init(elev=25, azim=-60)  \n",
    "# axis2.view_init(elev=15, azim=15)  \n",
    "# axis3.view_init(elev=25, azim=60)"
   ]
  },
  {
   "cell_type": "code",
   "execution_count": null,
   "metadata": {},
   "outputs": [],
   "source": []
  }
 ],
 "metadata": {
  "kernelspec": {
   "display_name": "Python 3",
   "language": "python",
   "name": "python3"
  },
  "language_info": {
   "codemirror_mode": {
    "name": "ipython",
    "version": 3
   },
   "file_extension": ".py",
   "mimetype": "text/x-python",
   "name": "python",
   "nbconvert_exporter": "python",
   "pygments_lexer": "ipython3",
   "version": "3.11.0"
  },
  "orig_nbformat": 4
 },
 "nbformat": 4,
 "nbformat_minor": 2
}
